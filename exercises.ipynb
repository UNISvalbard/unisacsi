{
 "cells": [
  {
   "cell_type": "markdown",
   "id": "278e7c88",
   "metadata": {},
   "source": [
    "# UNISACSI Exercises\n",
    "\n",
    "This notebook contains a set of exercises to be used as alternative to the Matlab excercises from Jan Even. If you don't have any programming experience, I recommend you to stick to Matlab, as Jan Even spends more time on the basic concepts of programming in his lectures. This Python set of tasks is supposed to be an alternative for those of you who already have some experience with Python."
   ]
  },
  {
   "cell_type": "markdown",
   "id": "84e2c744",
   "metadata": {},
   "source": [
    "## Importing packages, setting paths, ...\n",
    "\n",
    "As in every Python script, first import all packages needed for the following code:"
   ]
  },
  {
   "cell_type": "code",
   "execution_count": 1,
   "id": "0f7245e2",
   "metadata": {},
   "outputs": [],
   "source": [
    "import unisacsi.Ocean as Oc\n",
    "import unisacsi.Meteo as Met\n",
    "from unisacsi.MET_model_download import download_MET_model_static_fields, download_MET_model_data\n",
    "import matplotlib as mpl\n",
    "import matplotlib.pyplot as plt\n",
    "import pandas as pd\n",
    "import numpy as np\n",
    "import cartopy.crs as ccrs\n",
    "import gsw\n",
    "import cmocean as cmo\n",
    "import windrose\n",
    "import xarray as xr\n",
    "import seaborn as sns\n",
    "import spectrum\n",
    "from scipy import signal"
   ]
  },
  {
   "cell_type": "markdown",
   "id": "61c73d96",
   "metadata": {},
   "source": [
    "Then, download the folder with the example and map data and save it locally on your computer. Then, specify this location here:"
   ]
  },
  {
   "cell_type": "code",
   "execution_count": 2,
   "id": "afd27872",
   "metadata": {},
   "outputs": [],
   "source": [
    "path_data = \"/Users/lukasf/OneDrive - Universitetssenteret på Svalbard AS/unisacsi_example_data/\""
   ]
  },
  {
   "cell_type": "markdown",
   "id": "34d70907",
   "metadata": {},
   "source": [
    "Now you are ready to dive into the exercises! You might find some help and hints in the example notebook also available from the Github repository ;)"
   ]
  },
  {
   "cell_type": "markdown",
   "id": "41942b15",
   "metadata": {},
   "source": [
    "### 1. CTD profiles\n",
    "\n",
    "Some of the data you have gotten is CTD profiles from the AGF-214 cruise 2021. Read all profiles using the unisacsi-toolbox. Explore the dataset. In what type of variable are the profiles stored? Which sub-levels are there? Compare the temperature and salinity profiles from stations 3 and 23!"
   ]
  },
  {
   "cell_type": "markdown",
   "id": "3eda17ad",
   "metadata": {},
   "source": [
    "### 2. CTD Section\n",
    "\n",
    "Plot a CTD section containing the station numbers 1,3,6,10,12,18,23 for each of the variables (sometimes called CTD-transect; see the slide about CTD). Check the examples for already available functions for this task ;) Play around with the different argument options, e.g. for the interpolation! Can you put the two individual profiles from Exercise 1 into context?"
   ]
  },
  {
   "cell_type": "markdown",
   "id": "d0a3ed1c",
   "metadata": {},
   "source": [
    "### 3. Mapping with Cartopy\n",
    "\n",
    "Wouldn't it be nice to know, where these stations actually are located? Make a map with the locations of the Billefjorden along-fjord CTD stations using the CTD map toolbox function. Can you make a nicer map using the provided map data and the toolbox?"
   ]
  },
  {
   "cell_type": "markdown",
   "id": "1597abe0",
   "metadata": {},
   "source": [
    "### 4. T-S Diagrams\n",
    "\n",
    "A TS-diagram is an axis system with salinity on the x-axis and temperature on the y-axis. Since density depends mainly on temperature and salinity, a TS-diagram also gives background contours showing the density of water at any given point in this coordinate system. Pressure also affects density but is a chosen constant for the TS-plot. T-S diagrams are very useful to investigate e.g. the origin and interaction of water masses. Plot a \"normal\" T-S diagram of all stations in the Billefjorden section (one color for one station, use the respective toolbox-function). What do the density lines tell you about the properties of dense and light water masses? \n",
    "Which property determines the density most in cold waters? Plot the same T-S diagram again, but now with the Oxygen measurements color-coded."
   ]
  },
  {
   "cell_type": "markdown",
   "id": "c4d593fe",
   "metadata": {},
   "source": [
    "### 5. Wind Measurements\n",
    "\n",
    "The Campbell AWS (Automatic Weather Station) measures wind speed and direction. You can find example data files in the respective folder. Read the data! Why are there two different files for the same period?"
   ]
  },
  {
   "cell_type": "markdown",
   "id": "5772dca6",
   "metadata": {},
   "source": [
    "### 6. Polar vs. Cartesian Data\n",
    "\n",
    "The wind direction is given in compass directions (0-360 deg, 0 deg = North). Transform the direction and speed data from sensor 1 into u (east) and v (north) components. Always use pen and paper to work out the trigonometry first! And what kind of angles do Python’s trigonometric functions (e.g. sin and cos) accept, degrees or radians? Careful with the compass direction vs. the polar coordinate angle! Can you check your code by back-transforming u and v into speed and direction?!"
   ]
  },
  {
   "cell_type": "markdown",
   "id": "0d4ac266",
   "metadata": {},
   "source": [
    "### 7. Wind Rose\n",
    "\n",
    "Make a wind rose plot of the time series. Why do we make such plots? What can they tell us? Make sure you get the degrees right and have north up in the plots."
   ]
  },
  {
   "cell_type": "markdown",
   "id": "be820107",
   "metadata": {},
   "source": [
    "### 8. Wind time series\n",
    "\n",
    "Plot time series of the wind measurements, both for each component and with a stickplot. Maybe it is wise to plot a smaller part of the series. Try!"
   ]
  },
  {
   "cell_type": "markdown",
   "id": "2adbb913",
   "metadata": {},
   "source": [
    "### 9. Temperature & Humidity\n",
    "\n",
    "In addition to the wind measurements, read also the air temperature and humidity measurements from the Campbell AWS. Make a time series plot for humidity and air temperature (sensor 1), two different variables with different units, in the same graph. Also add ylabels to both coordinate systems (i.e., sides) of the graph."
   ]
  },
  {
   "cell_type": "markdown",
   "id": "794c89c7",
   "metadata": {},
   "source": [
    "### 10. Wind speed and direction\n",
    "\n",
    "Plot also a time series plot of wind speed and wind direction. What about the line for direction? Is it making sense? Change the ‘linestyle’ to ‘none’ and add dots as ‘marker’ for the line! What about the wind direction y-axis ticks? Can you change the labels into \"N\", \"NE\", \"E\", etc?! Play around a bit with changing properties of lines and axes."
   ]
  },
  {
   "cell_type": "markdown",
   "id": "c4d1c445",
   "metadata": {},
   "source": [
    "### 11. Combine time series data\n",
    "\n",
    "Even though the temperature/humidity and wind measurements are initially sampled at different frequencies and read separately, it might be useful to combine them into one Dataframe. Find the respective pandas function and create a new dataframe with all measurements from 2022-09-14 as individual columns. How does the function handle the gaps in the temperature time series with respect to the wind measurements? Interpolate the temperature measurements onto the high temporal resolution."
   ]
  },
  {
   "cell_type": "markdown",
   "id": "03a84b78",
   "metadata": {},
   "source": [
    "### 12. Modify dates and times\n",
    "\n",
    "Tinytags are small and rugged temperature (and humidity) sensors we use in various settings to complement the full Campbell (or HOBO) weather stations. Read the example data file from TT6 using the toolbox. In what way are the time stamps in an inconvenient format? Fix the time series by interpolating it to a more convenient base! Furthermore, resample the time series to a 10-minute resolution! (Hint: pandas resample)"
   ]
  },
  {
   "cell_type": "markdown",
   "id": "86563713",
   "metadata": {},
   "source": [
    "### 13. NetCDF files\n",
    "\n",
    "NetCDF is an advanced form of data file that is widely used for large datasets. You can also choose to load smaller parts of the data arrays so that you do not fill up your workspace/memory unnecessarily. Here we are going to read some data from an atmosphere (weather) model, for the Svalbard region. NetCDF format lets you study the contents before loading. Use the xarray package to study the contents of all AROME-Arctic files. Study especially the dimensions and the different variables and coordinates. Load only the time period 2022-05-02 10:00:00 -- 2022-05-04 08:00:00. What are the units of the temperature and humidity variables? Maybe convert them? Use the toolbox to plot an overview over whole of Svalbard to check which area is covered by the dataset (plot the first time index of the surface geopotential devided by the gravitational constant, which variable is that?). Consider using the longitude and latitude as your x/y-coordinates. Extract the Billefjorden area from the whole dataset and plot the temperature field from 2022-05-03 05:00:00."
   ]
  },
  {
   "cell_type": "markdown",
   "id": "cbfaacb1",
   "metadata": {},
   "source": [
    "### 14. Hovmöller Diagram\n",
    "\n",
    "The example data folder contains one netCDF file with lidar wind profile measurements. Read the file and have a look at the different variables and their dimensions. Plot wind speed time series for the time period 2021-02-22 -- 2021-02-24 from the instrument \"Windcube\" (wc) for all height levels. Plot also a Hovmöller diagram for the whole time period."
   ]
  },
  {
   "cell_type": "markdown",
   "id": "14b481f8",
   "metadata": {},
   "source": [
    "### 15. Averaging\n",
    "\n",
    "Calculate average wind speed profiles for 2021-02-22 and 2021-02-23. Plot the individual wind profiles for the two days (two different colors). On top, add the average profiles for the two periods."
   ]
  },
  {
   "cell_type": "markdown",
   "id": "94e50ed1",
   "metadata": {},
   "source": [
    "### 16. Download AROME-Arctic model data\n",
    "\n",
    "You can download model data from AROME-Arctic using the toolbox. The configurations are set in an extra configuration file (also provided on github, will be introduced in class). Download the static fields from AROME-Arctic with a resolution of 2.5 km. Then download a time series (the last week) of temperature and wind data from the model grid point closest to Svalbard Airport. Compare against measurements (can be donwloaded manually from https://www.seklima.met.no and the resulting files can be read using the toolbox)."
   ]
  },
  {
   "cell_type": "markdown",
   "id": "a435c374",
   "metadata": {},
   "source": [
    "### 17. Read data from a textfile yourself\n",
    "\n",
    "For most of the instruments you will use in the field, there are functions to read the data available in the unisacsi toolbox. However, it is essential that you are able to read and handle such data yourself. Practice developing a routine to read data from a text file by reading the radiation example data yourself (instead of using the respective function from the toolbox.)"
   ]
  },
  {
   "cell_type": "markdown",
   "id": "fd562db7",
   "metadata": {},
   "source": [
    "### 18. Spectral Analysis\n",
    "\n",
    "Read the mooring time series from the SeaGuard serial number 2306. First, plot a time series of pressure. What is the problem with the data? Fix it and plot the time series again. Can you see a prominent periodicity in the series? You might need to zoom into the plot or plot a shorter period. Using the scipy and spectrum packages (check the documentations for hints which functions to use!), plot a periodogram of the detrended (find the corresponding function from the scipy-package) time series! Can you recognize the frequency peak you identified in the time series? What are the other peaks? Use multitapering to smooth the periodogram and plot a more meaningful power spectrum."
   ]
  }
 ],
 "metadata": {
  "kernelspec": {
   "display_name": "Python 3 (ipykernel)",
   "language": "python",
   "name": "python3"
  },
  "language_info": {
   "codemirror_mode": {
    "name": "ipython",
    "version": 3
   },
   "file_extension": ".py",
   "mimetype": "text/x-python",
   "name": "python",
   "nbconvert_exporter": "python",
   "pygments_lexer": "ipython3",
   "version": "3.11.9"
  }
 },
 "nbformat": 4,
 "nbformat_minor": 5
}
